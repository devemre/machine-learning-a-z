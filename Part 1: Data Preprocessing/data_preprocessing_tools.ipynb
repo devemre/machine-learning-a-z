{
 "cells": [
  {
   "metadata": {},
   "cell_type": "markdown",
   "source": "# Data Preprocessing Tools",
   "id": "c9093a9dab55d612"
  },
  {
   "metadata": {},
   "cell_type": "markdown",
   "source": "## Importing the libraries",
   "id": "fe6f7cb375df353b"
  },
  {
   "metadata": {
    "ExecuteTime": {
     "end_time": "2024-07-16T16:23:07.364297Z",
     "start_time": "2024-07-16T16:23:07.361539Z"
    }
   },
   "cell_type": "code",
   "source": [
    "import numpy as np\n",
    "import matplotlib.pyplot as plt\n",
    "import pandas as pd"
   ],
   "id": "initial_id",
   "outputs": [],
   "execution_count": 3
  },
  {
   "metadata": {},
   "cell_type": "markdown",
   "source": "## Importing the dataset",
   "id": "6943b88e39b94419"
  },
  {
   "metadata": {
    "ExecuteTime": {
     "end_time": "2024-07-16T16:23:46.483267Z",
     "start_time": "2024-07-16T16:23:46.473487Z"
    }
   },
   "cell_type": "code",
   "source": [
    "dataset = pd.read_csv(\"Data.csv\")\n",
    "X = dataset.iloc[:, :-1].values\n",
    "y = dataset.iloc[:, -1].values"
   ],
   "id": "17d599b1caeb5be3",
   "outputs": [],
   "execution_count": 4
  },
  {
   "metadata": {
    "ExecuteTime": {
     "end_time": "2024-07-16T16:23:48.241224Z",
     "start_time": "2024-07-16T16:23:48.237308Z"
    }
   },
   "cell_type": "code",
   "source": "print(X)",
   "id": "c8594c0fdb2fd31c",
   "outputs": [
    {
     "name": "stdout",
     "output_type": "stream",
     "text": [
      "[['France' 44.0 72000.0]\n",
      " ['Spain' 27.0 48000.0]\n",
      " ['Germany' 30.0 54000.0]\n",
      " ['Spain' 38.0 61000.0]\n",
      " ['Germany' 40.0 nan]\n",
      " ['France' 35.0 58000.0]\n",
      " ['Spain' nan 52000.0]\n",
      " ['France' 48.0 79000.0]\n",
      " ['Germany' 50.0 83000.0]\n",
      " ['France' 37.0 67000.0]]\n"
     ]
    }
   ],
   "execution_count": 5
  },
  {
   "metadata": {
    "ExecuteTime": {
     "end_time": "2024-07-16T16:23:49.175294Z",
     "start_time": "2024-07-16T16:23:49.172272Z"
    }
   },
   "cell_type": "code",
   "source": "print(y)",
   "id": "22fa6af4d67ee502",
   "outputs": [
    {
     "name": "stdout",
     "output_type": "stream",
     "text": [
      "['No' 'Yes' 'No' 'No' 'Yes' 'Yes' 'No' 'Yes' 'No' 'Yes']\n"
     ]
    }
   ],
   "execution_count": 6
  },
  {
   "metadata": {},
   "cell_type": "markdown",
   "source": "## Taking care of missing data",
   "id": "68d3a3a7c54a83d8"
  },
  {
   "metadata": {
    "ExecuteTime": {
     "end_time": "2024-07-16T16:29:20.462595Z",
     "start_time": "2024-07-16T16:29:19.659326Z"
    }
   },
   "cell_type": "code",
   "source": [
    "from sklearn.impute import SimpleImputer\n",
    "imputer = SimpleImputer(missing_values = np.nan, strategy  ='mean')\n",
    "imputer.fit(X[:, 1:3])\n",
    "X[:, 1:3] = imputer.transform(X[:, 1:3])"
   ],
   "id": "96ea276b00c5f1c1",
   "outputs": [],
   "execution_count": 7
  },
  {
   "metadata": {
    "ExecuteTime": {
     "end_time": "2024-07-16T16:29:26.491203Z",
     "start_time": "2024-07-16T16:29:26.488147Z"
    }
   },
   "cell_type": "code",
   "source": "print(X)",
   "id": "6ce8a12a815274a0",
   "outputs": [
    {
     "name": "stdout",
     "output_type": "stream",
     "text": [
      "[['France' 44.0 72000.0]\n",
      " ['Spain' 27.0 48000.0]\n",
      " ['Germany' 30.0 54000.0]\n",
      " ['Spain' 38.0 61000.0]\n",
      " ['Germany' 40.0 63777.77777777778]\n",
      " ['France' 35.0 58000.0]\n",
      " ['Spain' 38.77777777777778 52000.0]\n",
      " ['France' 48.0 79000.0]\n",
      " ['Germany' 50.0 83000.0]\n",
      " ['France' 37.0 67000.0]]\n"
     ]
    }
   ],
   "execution_count": 8
  },
  {
   "metadata": {},
   "cell_type": "markdown",
   "source": "## Encoding categorical data",
   "id": "b95ae37332222b1b"
  },
  {
   "metadata": {},
   "cell_type": "markdown",
   "source": "### Encoding the Independent Variable",
   "id": "a6a2f881e30ce302"
  },
  {
   "metadata": {
    "ExecuteTime": {
     "end_time": "2024-07-16T16:37:21.459839Z",
     "start_time": "2024-07-16T16:37:21.446168Z"
    }
   },
   "cell_type": "code",
   "source": [
    "from sklearn.compose import ColumnTransformer\n",
    "from sklearn.preprocessing import OneHotEncoder\n",
    "ct = ColumnTransformer(transformers  =[('encoder', OneHotEncoder(), [0])], remainder = 'passthrough')\n",
    "X = np.array(ct.fit_transform(X))"
   ],
   "id": "fc576b03ad862f0e",
   "outputs": [],
   "execution_count": 9
  },
  {
   "metadata": {
    "ExecuteTime": {
     "end_time": "2024-07-16T16:37:22.961860Z",
     "start_time": "2024-07-16T16:37:22.958758Z"
    }
   },
   "cell_type": "code",
   "source": "print(X)",
   "id": "fffdc0909a79fb9b",
   "outputs": [
    {
     "name": "stdout",
     "output_type": "stream",
     "text": [
      "[[1.0 0.0 0.0 44.0 72000.0]\n",
      " [0.0 0.0 1.0 27.0 48000.0]\n",
      " [0.0 1.0 0.0 30.0 54000.0]\n",
      " [0.0 0.0 1.0 38.0 61000.0]\n",
      " [0.0 1.0 0.0 40.0 63777.77777777778]\n",
      " [1.0 0.0 0.0 35.0 58000.0]\n",
      " [0.0 0.0 1.0 38.77777777777778 52000.0]\n",
      " [1.0 0.0 0.0 48.0 79000.0]\n",
      " [0.0 1.0 0.0 50.0 83000.0]\n",
      " [1.0 0.0 0.0 37.0 67000.0]]\n"
     ]
    }
   ],
   "execution_count": 10
  },
  {
   "metadata": {},
   "cell_type": "markdown",
   "source": "### Encoding the Dependent Variable",
   "id": "fdad5f7ae5d1cde"
  },
  {
   "metadata": {
    "ExecuteTime": {
     "end_time": "2024-07-16T16:39:11.014795Z",
     "start_time": "2024-07-16T16:39:11.011572Z"
    }
   },
   "cell_type": "code",
   "source": [
    "from sklearn.preprocessing import LabelEncoder\n",
    "le = LabelEncoder()\n",
    "y = le.fit_transform(y)"
   ],
   "id": "ce016fae660c4220",
   "outputs": [],
   "execution_count": 11
  },
  {
   "metadata": {
    "ExecuteTime": {
     "end_time": "2024-07-16T16:39:12.233602Z",
     "start_time": "2024-07-16T16:39:12.230746Z"
    }
   },
   "cell_type": "code",
   "source": "print(y)",
   "id": "7e2c68b97aca1212",
   "outputs": [
    {
     "name": "stdout",
     "output_type": "stream",
     "text": [
      "[0 1 0 0 1 1 0 1 0 1]\n"
     ]
    }
   ],
   "execution_count": 12
  },
  {
   "metadata": {},
   "cell_type": "markdown",
   "source": "## Splitting the dataset into the Training set and Test set",
   "id": "e1e9c44f0de6b432"
  },
  {
   "metadata": {
    "ExecuteTime": {
     "end_time": "2024-07-16T17:26:31.464842Z",
     "start_time": "2024-07-16T17:26:31.456167Z"
    }
   },
   "cell_type": "code",
   "source": [
    "from sklearn.model_selection import train_test_split\n",
    "X_train, X_test, y_train, y_test = train_test_split(X, y, test_size = 0.2, random_state = 1)"
   ],
   "id": "4c25edaba72e1e44",
   "outputs": [],
   "execution_count": 13
  },
  {
   "metadata": {
    "ExecuteTime": {
     "end_time": "2024-07-16T17:26:32.201050Z",
     "start_time": "2024-07-16T17:26:32.198554Z"
    }
   },
   "cell_type": "code",
   "source": "print(X_train)",
   "id": "86aaec676e25bf01",
   "outputs": [
    {
     "name": "stdout",
     "output_type": "stream",
     "text": [
      "[[0.0 0.0 1.0 38.77777777777778 52000.0]\n",
      " [0.0 1.0 0.0 40.0 63777.77777777778]\n",
      " [1.0 0.0 0.0 44.0 72000.0]\n",
      " [0.0 0.0 1.0 38.0 61000.0]\n",
      " [0.0 0.0 1.0 27.0 48000.0]\n",
      " [1.0 0.0 0.0 48.0 79000.0]\n",
      " [0.0 1.0 0.0 50.0 83000.0]\n",
      " [1.0 0.0 0.0 35.0 58000.0]]\n"
     ]
    }
   ],
   "execution_count": 14
  },
  {
   "metadata": {
    "ExecuteTime": {
     "end_time": "2024-07-16T17:26:32.824661Z",
     "start_time": "2024-07-16T17:26:32.821139Z"
    }
   },
   "cell_type": "code",
   "source": "print(X_test)",
   "id": "4c98aa8473992f88",
   "outputs": [
    {
     "name": "stdout",
     "output_type": "stream",
     "text": [
      "[[0.0 1.0 0.0 30.0 54000.0]\n",
      " [1.0 0.0 0.0 37.0 67000.0]]\n"
     ]
    }
   ],
   "execution_count": 15
  },
  {
   "metadata": {
    "ExecuteTime": {
     "end_time": "2024-07-16T17:26:33.266397Z",
     "start_time": "2024-07-16T17:26:33.262596Z"
    }
   },
   "cell_type": "code",
   "source": "print(y_train)",
   "id": "620b004c78763bf3",
   "outputs": [
    {
     "name": "stdout",
     "output_type": "stream",
     "text": [
      "[0 1 0 0 1 1 0 1]\n"
     ]
    }
   ],
   "execution_count": 16
  },
  {
   "metadata": {
    "ExecuteTime": {
     "end_time": "2024-07-16T17:26:33.689887Z",
     "start_time": "2024-07-16T17:26:33.686976Z"
    }
   },
   "cell_type": "code",
   "source": "print(y_test)",
   "id": "b731453046c70ab1",
   "outputs": [
    {
     "name": "stdout",
     "output_type": "stream",
     "text": [
      "[0 1]\n"
     ]
    }
   ],
   "execution_count": 17
  },
  {
   "metadata": {},
   "cell_type": "markdown",
   "source": "## Feature Scaling",
   "id": "e4fdce837ba91016"
  },
  {
   "metadata": {
    "ExecuteTime": {
     "end_time": "2024-07-16T18:00:20.545969Z",
     "start_time": "2024-07-16T18:00:20.536493Z"
    }
   },
   "cell_type": "code",
   "source": [
    "from sklearn.preprocessing import StandardScaler\n",
    "sc = StandardScaler()\n",
    "X_train[:, 3:] = sc.fit_transform(X_train[:, 3:])\n",
    "X_test[:, 3:] = sc.transform(X_test[:, 3:])"
   ],
   "id": "e3c40f741d96a696",
   "outputs": [],
   "execution_count": 18
  },
  {
   "metadata": {
    "ExecuteTime": {
     "end_time": "2024-07-16T18:00:20.948042Z",
     "start_time": "2024-07-16T18:00:20.944781Z"
    }
   },
   "cell_type": "code",
   "source": "print(X_train)",
   "id": "683a18e61a1be623",
   "outputs": [
    {
     "name": "stdout",
     "output_type": "stream",
     "text": [
      "[[0.0 0.0 1.0 -0.19159184384578545 -1.0781259408412425]\n",
      " [0.0 1.0 0.0 -0.014117293757057777 -0.07013167641635372]\n",
      " [1.0 0.0 0.0 0.566708506533324 0.633562432710455]\n",
      " [0.0 0.0 1.0 -0.30453019390224867 -0.30786617274297867]\n",
      " [0.0 0.0 1.0 -1.9018011447007988 -1.420463615551582]\n",
      " [1.0 0.0 0.0 1.1475343068237058 1.232653363453549]\n",
      " [0.0 1.0 0.0 1.4379472069688968 1.5749910381638885]\n",
      " [1.0 0.0 0.0 -0.7401495441200351 -0.5646194287757332]]\n"
     ]
    }
   ],
   "execution_count": 19
  },
  {
   "metadata": {
    "ExecuteTime": {
     "end_time": "2024-07-16T18:00:21.177991Z",
     "start_time": "2024-07-16T18:00:21.175552Z"
    }
   },
   "cell_type": "code",
   "source": "print(X_test)",
   "id": "478d97ab23c4fc98",
   "outputs": [
    {
     "name": "stdout",
     "output_type": "stream",
     "text": [
      "[[0.0 1.0 0.0 -1.4661817944830124 -0.9069571034860727]\n",
      " [1.0 0.0 0.0 -0.44973664397484414 0.2056403393225306]]\n"
     ]
    }
   ],
   "execution_count": 20
  }
 ],
 "metadata": {
  "kernelspec": {
   "display_name": "Python 3",
   "language": "python",
   "name": "python3"
  },
  "language_info": {
   "codemirror_mode": {
    "name": "ipython",
    "version": 2
   },
   "file_extension": ".py",
   "mimetype": "text/x-python",
   "name": "python",
   "nbconvert_exporter": "python",
   "pygments_lexer": "ipython2",
   "version": "2.7.6"
  }
 },
 "nbformat": 4,
 "nbformat_minor": 5
}
